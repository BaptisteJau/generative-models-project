{
 "cells": [
  {
   "cell_type": "markdown",
   "metadata": {},
   "source": [
    "# Results Analysis\n",
    "\n",
    "This notebook is used for analyzing the results of the generative models implemented in this project. It includes comparisons of performance metrics and visualizations of generated outputs."
   ]
  },
  {
   "cell_type": "code",
   "execution_count": null,
   "metadata": {
    "collapsed": false
   },
   "outputs": [],
   "source": [
    "import numpy as np\n",
    "import matplotlib.pyplot as plt\n",
    "import seaborn as sns\n",
    "import pandas as pd\n",
    "import sys\n",
    "sys.path.append('..')  # Pour accéder au dossier src depuis les notebooks\n",
    "from src.data.data_loader import get_image_loader, get_text_loader\n",
    "from src.data.preprocessing import preprocess_images, tokenize_texts\n",
    "\n",
    "# Load results from training\n",
    "cnn_results = pd.read_csv('path/to/cnn_results.csv')\n",
    "transformer_results = pd.read_csv('path/to/transformer_results.csv')\n",
    "diffusion_results = pd.read_csv('path/to/diffusion_results.csv')\n",
    "\n",
    "# Display the first few rows of each results dataframe\n",
    "cnn_results.head(), transformer_results.head(), diffusion_results.head()"
   ]
  },
  {
   "cell_type": "code",
   "execution_count": null,
   "metadata": {
    "collapsed": false
   },
   "outputs": [],
   "source": [
    "# Visualize performance metrics\n",
    "plt.figure(figsize=(12, 6))\n",
    "sns.lineplot(data=cnn_results, x='epoch', y='loss', label='CNN Loss')\n",
    "sns.lineplot(data=transformer_results, x='epoch', y='loss', label='Transformer Loss')\n",
    "sns.lineplot(data=diffusion_results, x='epoch', y='loss', label='Diffusion Loss')\n",
    "plt.title('Model Loss Comparison')\n",
    "plt.xlabel('Epoch')\n",
    "plt.ylabel('Loss')\n",
    "plt.legend()\n",
    "plt.show()"
   ]
  },
  {
   "cell_type": "code",
   "execution_count": null,
   "metadata": {
    "collapsed": false
   },
   "outputs": [],
   "source": [
    "# Visualize generated outputs\n",
    "def plot_generated_images(images, title):\n",
    "    plt.figure(figsize=(12, 6))\n",
    "    for i in range(10):\n",
    "        plt.subplot(2, 5, i + 1)\n",
    "        plt.imshow(images[i])\n",
    "        plt.axis('off')\n",
    "    plt.suptitle(title)\n",
    "    plt.show()\n",
    "\n",
    "# Assuming generated images are stored in arrays\n",
    "# cnn_generated_images = ...\n",
    "# transformer_generated_images = ...\n",
    "# diffusion_generated_images = ...\n",
    "\n",
    "# plot_generated_images(cnn_generated_images, 'CNN Generated Images')\n",
    "# plot_generated_images(transformer_generated_images, 'Transformer Generated Images')\n",
    "# plot_generated_images(diffusion_generated_images, 'Diffusion Generated Images')"
   ]
  }
 ],
 "metadata": {
  "kernelspec": {
   "display_name": "Python 3",
   "language": "python",
   "name": "python3"
  },
  "language_info": {
   "codemirror_mode": {
    "name": "ipython",
    "version": 3
   },
   "file_extension": ".py",
   "mimetype": "text/x-python",
   "name": "python",
   "nbconvert_exporter": "python",
   "pygments_lexer": "ipython3",
   "version": "3.8.5"
  }
 },
 "nbformat": 4,
 "nbformat_minor": 4
}
