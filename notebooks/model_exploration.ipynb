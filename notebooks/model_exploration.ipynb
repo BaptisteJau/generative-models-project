{
 "cells": [
  {
   "cell_type": "markdown",
   "metadata": {},
   "source": [
    "# Model Exploration\n",
    "\n",
    "In this notebook, we will explore the architectures of the generative models implemented in this project. We will visualize the models, experiment with different configurations, and understand their functionalities."
   ]
  },
  {
   "cell_type": "code",
   "execution_count": null,
   "metadata": {},
   "outputs": [],
   "source": [
    "import sys\n",
    "sys.path.append('../src')\n",
    "\n",
    "from models.cnn.deep_cnn import DeepCNN\n",
    "from models.transformer.transformer_model import TransformerModel\n",
    "from models.diffusion.diffusion_model import DiffusionModel\n",
    "import sys\n",
    "sys.path.append('..')  # Pour accéder au dossier src depuis les notebooks\n",
    "from src.data.data_loader import get_image_loader, get_text_loader\n",
    "from src.data.preprocessing import preprocess_images, tokenize_texts\n",
    "import matplotlib.pyplot as plt\n",
    "import numpy as np\n",
    "\n",
    "# Function to visualize model architecture\n",
    "def visualize_model(model):\n",
    "    # Placeholder for model visualization logic\n",
    "    print(model)\n",
    "\n",
    "# Instantiate models\n",
    "cnn_model = DeepCNN()\n",
    "transformer_model = TransformerModel()\n",
    "diffusion_model = DiffusionModel()\n",
    "\n",
    "# Visualize models\n",
    "visualize_model(cnn_model)\n",
    "visualize_model(transformer_model)\n",
    "visualize_model(diffusion_model)\n"
   ]
  },
  {
   "cell_type": "markdown",
   "metadata": {},
   "source": [
    "## Experimenting with Configurations\n",
    "\n",
    "We can modify the configurations of the models to see how they affect performance. Let's load the configuration files and explore the hyperparameters."
   ]
  },
  {
   "cell_type": "code",
   "execution_count": 2,
   "metadata": {},
   "outputs": [],
   "source": [
    "import yaml\n",
    "\n",
    "# Load configuration files\n",
    "with open('../configs/cnn_config.yaml') as f:\n",
    "    cnn_config = yaml.safe_load(f)\n",
    "\n",
    "with open('../configs/transformer_config.yaml') as f:\n",
    "    transformer_config = yaml.safe_load(f)\n",
    "\n",
    "with open('../configs/diffusion_config.yaml') as f:\n",
    "    diffusion_config = yaml.safe_load(f)\n",
    "\n",
    "# Display configurations\n",
    "print(\"CNN Config:\", cnn_config)\n",
    "print(\"Transformer Config:\", transformer_config)\n",
    "print(\"Diffusion Config:\", diffusion_config)\n"
   ]
  },
  {
   "cell_type": "markdown",
   "metadata": {},
   "source": [
    "## Conclusion\n",
    "\n",
    "In this notebook, we have explored the architectures of the generative models and experimented with their configurations. Further analysis and training will be conducted in subsequent notebooks."
   ]
  }
 ],
 "metadata": {
  "kernelspec": {
   "display_name": "Python 3",
   "language": "python",
   "name": "python3"
  },
  "language_info": {
   "codemirror_mode": {
    "name": "ipython",
    "version": 3
   },
   "file_extension": ".py",
   "mimetype": "text/x-python",
   "name": "python",
   "nbconvert_exporter": "python",
   "pygments_lexer": "ipython3",
   "version": "3.8.5"
  }
 },
 "nbformat": 4,
 "nbformat_minor": 4
}
